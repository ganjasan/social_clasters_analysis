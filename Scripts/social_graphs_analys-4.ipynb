{
 "cells": [
  {
   "cell_type": "code",
   "execution_count": 2,
   "metadata": {
    "collapsed": true
   },
   "outputs": [],
   "source": [
    "import networkx as nx\n",
    "import pandas as pd"
   ]
  },
  {
   "cell_type": "code",
   "execution_count": 3,
   "metadata": {
    "collapsed": true
   },
   "outputs": [],
   "source": [
    "raw_graphs_file_path_mask = \"../Data/ResultData/graphs/raw_graphs/cluster_%s_social_graph.gexf\"\n",
    "\n",
    "graphs_with_measurements_file_path_mask = \"../Data/ResultData/graphs/process_graphs/cluster_%s_social_graph_with_measure.gexf\"\n",
    "\n",
    "biggest_component_graph_path_mask = \"../Data/ResultData/graphs/biggest_component_graphs/cluster_%s_biggest_component_graph.gexf\""
   ]
  },
  {
   "cell_type": "code",
   "execution_count": 12,
   "metadata": {
    "collapsed": true
   },
   "outputs": [],
   "source": [
    "cluster_list = [0,136,45, 53, 137, 123, 105, 129]"
   ]
  },
  {
   "cell_type": "code",
   "execution_count": 5,
   "metadata": {
    "collapsed": true
   },
   "outputs": [],
   "source": [
    "graphs = {}\n",
    "for cluster_num in cluster_list:\n",
    "    G = nx.read_gexf(raw_graphs_file_path_mask % (cluster_num))\n",
    "    graphs[cluster_num] = G"
   ]
  },
  {
   "cell_type": "code",
   "execution_count": 51,
   "metadata": {
    "collapsed": true
   },
   "outputs": [],
   "source": [
    "# filter and node metrics\n",
    "for cluster_num in cluster_list:\n",
    "    G = graphs[cluster_num]\n",
    "    #node metrics\n",
    "    \n",
    "    degree = nx.degree(G)\n",
    "    nx.set_node_attributes(G, 'degree', degree)\n",
    "    \n",
    "    #filter node by degree >= 1\n",
    "    f_G = G.subgraph([node for node, data in G.nodes_iter(data=True) if data['degree'] >= 1])\n",
    "    \n",
    "    bb = nx.betweenness_centrality(f_G)\n",
    "    nx.set_node_attributes(f_G, 'betweenness_centrality', bb)\n",
    "    \n",
    "    degree_centrality = nx.degree_centrality(f_G)\n",
    "    nx.set_node_attributes(f_G, 'degree_centrality', degree_centrality)\n",
    "    \n",
    "    closeness_centrality = nx.closeness_centrality(f_G)\n",
    "    nx.set_node_attributes(f_G, 'closeness_centrality', closeness_centrality)\n",
    "    \n",
    "    nx.write_gexf(f_G, graphs_with_measurements_file_path_mask % (cluster_num))"
   ]
  },
  {
   "cell_type": "code",
   "execution_count": 6,
   "metadata": {
    "collapsed": true
   },
   "outputs": [],
   "source": [
    "filtered_graphs = {}\n",
    "for cluster_num in cluster_list:\n",
    "    G = nx.read_gexf(graphs_with_measurements_file_path_mask % (cluster_num))\n",
    "    filtered_graphs[cluster_num] = G"
   ]
  },
  {
   "cell_type": "code",
   "execution_count": 54,
   "metadata": {
    "collapsed": true
   },
   "outputs": [],
   "source": [
    "biggest_component_grpahs = {}\n",
    "\n",
    "#get huge component\n",
    "for cluster_num in cluster_list:\n",
    "    G = filtered_graphs[cluster_num]\n",
    "    \n",
    "    biggest_component_G = max(nx.connected_component_subgraphs(G), key=len)\n",
    "    \n",
    "    biggest_component_grpahs[cluster_num] = biggest_component_G\n",
    "    \n",
    "    nx.write_gexf(biggest_component_G, biggest_component_graph_path_mask % (cluster_num))"
   ]
  },
  {
   "cell_type": "code",
   "execution_count": 7,
   "metadata": {},
   "outputs": [],
   "source": [
    "biggest_component_grpahs = {}\n",
    "\n",
    "for cluster_num in cluster_list:\n",
    "    G = nx.read_gexf(biggest_component_graph_path_mask % (cluster_num))\n",
    "    biggest_component_grpahs[cluster_num] = G"
   ]
  },
  {
   "cell_type": "code",
   "execution_count": 18,
   "metadata": {},
   "outputs": [],
   "source": [
    "#network metrics\n",
    "network_metrics = []\n",
    "for cluster_num in cluster_list:\n",
    "    \n",
    "    metrics = {}\n",
    "    \n",
    "    row_G = graphs[cluster_num] \n",
    "    GSK_G = biggest_component_grpahs[cluster_num]\n",
    "    \n",
    "    metrics['cluster_n'] = cluster_num\n",
    "    metrics['node_count'] = row_G.number_of_nodes()\n",
    "    metrics['edge_count'] = row_G.number_of_edges()\n",
    "    metrics['GSK_node_count'] = GSK_G.number_of_nodes()\n",
    "    metrics['GSK_edge_count'] = GSK_G.number_of_edges()\n",
    "    #metrics['GSK_connectivity'] = nx.average_node_connectivity(GSK_G)\n",
    "    metrics['GSK_density'] = nx.density(GSK_G)\n",
    "    metrics['GSK_average_clustering_coefficient'] = nx.average_clustering(GSK_G)\n",
    "    \n",
    "    network_metrics.append(metrics) \n",
    "    \n",
    "network_metrics_df = pd.DataFrame(network_metrics)\n",
    "network_metrics_df.to_csv('../Data/ResultData/networks_metrics.csv')\n",
    "    "
   ]
  },
  {
   "cell_type": "code",
   "execution_count": 17,
   "metadata": {},
   "outputs": [
    {
     "data": {
      "text/plain": [
       "[{'GSK_average_clustering_coefficient': 0.06105863546482094,\n",
       "  'GSK_density': 0.0006382303309775617,\n",
       "  'GSK_edge_count': 14516,\n",
       "  'GSK_node_count': 6745,\n",
       "  'cluster_num': 0,\n",
       "  'edge_count': 15182,\n",
       "  'node_count': 14776},\n",
       " {'GSK_average_clustering_coefficient': 0.08192199291448017,\n",
       "  'GSK_density': 0.001857708778297968,\n",
       "  'GSK_edge_count': 3647,\n",
       "  'GSK_node_count': 1982,\n",
       "  'cluster_num': 136,\n",
       "  'edge_count': 4020,\n",
       "  'node_count': 5617},\n",
       " {'GSK_average_clustering_coefficient': 0.06308837313115122,\n",
       "  'GSK_density': 0.0006987192767255136,\n",
       "  'GSK_edge_count': 11909,\n",
       "  'GSK_node_count': 5839,\n",
       "  'cluster_num': 45,\n",
       "  'edge_count': 12540,\n",
       "  'node_count': 13076},\n",
       " {'GSK_average_clustering_coefficient': 0.0,\n",
       "  'GSK_density': 0.5,\n",
       "  'GSK_edge_count': 3,\n",
       "  'GSK_node_count': 4,\n",
       "  'cluster_num': 53,\n",
       "  'edge_count': 37,\n",
       "  'node_count': 439},\n",
       " {'GSK_average_clustering_coefficient': 0.08076193887882198,\n",
       "  'GSK_density': 0.01155655938264634,\n",
       "  'GSK_edge_count': 307,\n",
       "  'GSK_node_count': 231,\n",
       "  'cluster_num': 137,\n",
       "  'edge_count': 426,\n",
       "  'node_count': 1537},\n",
       " {'GSK_average_clustering_coefficient': 0.11257142857142856,\n",
       "  'GSK_density': 0.1,\n",
       "  'GSK_edge_count': 30,\n",
       "  'GSK_node_count': 25,\n",
       "  'cluster_num': 123,\n",
       "  'edge_count': 101,\n",
       "  'node_count': 789},\n",
       " {'GSK_average_clustering_coefficient': 0.02282608695652174,\n",
       "  'GSK_density': 0.023889154323936932,\n",
       "  'GSK_edge_count': 100,\n",
       "  'GSK_node_count': 92,\n",
       "  'cluster_num': 105,\n",
       "  'edge_count': 440,\n",
       "  'node_count': 2095},\n",
       " {'GSK_average_clustering_coefficient': 0.0,\n",
       "  'GSK_density': 0.058823529411764705,\n",
       "  'GSK_edge_count': 35,\n",
       "  'GSK_node_count': 35,\n",
       "  'cluster_num': 129,\n",
       "  'edge_count': 103,\n",
       "  'node_count': 832}]"
      ]
     },
     "execution_count": 17,
     "metadata": {},
     "output_type": "execute_result"
    }
   ],
   "source": [
    "network_metrics"
   ]
  },
  {
   "cell_type": "code",
   "execution_count": null,
   "metadata": {
    "collapsed": true
   },
   "outputs": [],
   "source": []
  }
 ],
 "metadata": {
  "kernelspec": {
   "display_name": "Python 3",
   "language": "python",
   "name": "python3"
  },
  "language_info": {
   "codemirror_mode": {
    "name": "ipython",
    "version": 3
   },
   "file_extension": ".py",
   "mimetype": "text/x-python",
   "name": "python",
   "nbconvert_exporter": "python",
   "pygments_lexer": "ipython3",
   "version": "3.6.1"
  }
 },
 "nbformat": 4,
 "nbformat_minor": 2
}
