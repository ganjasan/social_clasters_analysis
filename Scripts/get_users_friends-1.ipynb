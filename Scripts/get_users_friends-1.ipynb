{
 "cells": [
  {
   "cell_type": "code",
   "execution_count": 260,
   "metadata": {},
   "outputs": [],
   "source": [
    "import pandas as pd\n",
    "import vk\n",
    "import time\n",
    "import numpy as np\n",
    "from datetime import datetime\n",
    "import matplotlib\n",
    "import seaborn as sns\n",
    "\n",
    "session = vk.AuthSession('6212339', '89817730298', '162445mda618')\n",
    "vk_api = vk.API(session)\n",
    "\n",
    "pd.set_option('display.max_columns', 500)\n",
    "%matplotlib inline"
   ]
  },
  {
   "cell_type": "code",
   "execution_count": null,
   "metadata": {
    "collapsed": true
   },
   "outputs": [],
   "source": [
    "#return 'code' parameter for VK API execute method\n",
    "#Param\n",
    "#users_id_list - bach of 25 users id\n",
    "\n",
    "def get_user_friends_vk_code(users_id_list):\n",
    "    code = 'return {'\n",
    "    \n",
    "    for id in users_id_list:\n",
    "        code = '%s%s' % (code, '\"%s\": API.friends.get({\"user_id\":%s}),' % (id, id))\n",
    "    \n",
    "    code = '%s%s' % (code, '};')\n",
    "        \n",
    "    return code\n",
    "\n",
    "#params:\n",
    "#users_id_bach_list - list(bach-25(bach-1000))\n",
    "\n",
    "def get_users_info_vk_codes(users_id_list):\n",
    "    bach_100 = parts(list(map(lambda u: int(u), users_id_list)),100)\n",
    "    bach_25 = parts(bach_100, 25)\n",
    "    \n",
    "    fields = \"verified, sex, bdate, city, country, home_town, has_photo, domain, has_mobile, site, education, universities, schools, followers_count, common_count, occupation, nickname, relatives, relation, personal, connections, exports, activities, interests, music, movies, tv, books, games, about, quotes, is_hidden_from_feed, timezone, screen_name, maiden_name, career, military, blacklisted\"\n",
    "    \n",
    "    code_list = []\n",
    "    \n",
    "    for bach in bach_25:\n",
    "        code = 'return ['\n",
    "    \n",
    "        for users_ids in bach:\n",
    "            users_ids_string = \",\".join(list(map(lambda uid: str(uid) , users_ids)))\n",
    "            code = '%s%s' % (code, 'API.users.get({\"user_ids\":\"%s\", \"fields\":\"%s\" }),' % (users_ids_string, fields))\n",
    "        \n",
    "        code = '%s%s' % (code, '];')\n",
    "        \n",
    "        code_list.append(code)\n",
    "    \n",
    "    return code_list\n",
    "\n",
    "def parts(lst, n=25):\n",
    "    return [lst[i:i + n] for i in iter(range(0, len(lst), n))]\n",
    "\n",
    "def find_users(user_ids_list):\n",
    "    \n",
    "    users = []\n",
    "    \n",
    "    \"\"\"\n",
    "    users_batched_info = []\n",
    "    \n",
    "    codes = get_users_info_vk_codes(user_ids_list)\n",
    "    \n",
    "    for code in codes:\n",
    "        try:\n",
    "            users_info_exec = vk_api.execute(code=code, v=5.80)\n",
    "            \n",
    "            users_batched_info.extend(users_info_exec)\n",
    "            \n",
    "            time.sleep(2)\n",
    "        except Exception as e:\n",
    "            print(e)\n",
    "            continue\n",
    "            \n",
    "    for bach in users_batched_info:\n",
    "        users.extend(bach)\n",
    "    \"\"\"\n",
    "    \n",
    "    users_batches = parts(list(map(lambda u: int(u), user_ids_list)), 1000)\n",
    "    fields = \"sex, bdate, city, country, domain, has_mobile, site, followers_count, occupation, nickname\"\n",
    "    for batch in users_batches:\n",
    "        try:\n",
    "            res = vk_api.users.get(user_ids=batch, fields=fields, v=5.80)\n",
    "            time.sleep(1)\n",
    "        except Exception as e:\n",
    "            print(e)\n",
    "            continue\n",
    "        \n",
    "        users.extend(res)\n",
    "    \n",
    "    return users \n",
    "\n",
    "def get_users_friends(users_id_list):\n",
    "    users_id_bachs = parts(users_id_list, 25)\n",
    "    \n",
    "    users_friends_dict = {}\n",
    "    for bach in users_id_bachs:\n",
    "        try:\n",
    "            u_f_l = vk_api.execute(code=get_user_friends_vk_code(bach), v=5.80)\n",
    "            \n",
    "            time.sleep(1)\n",
    "            \n",
    "        except Exception as e:\n",
    "            print(e)\n",
    "            continue\n",
    "        \n",
    "        users_friends_dict.update(u_f_l)\n",
    "    \n",
    "    return users_friends_dict"
   ]
  },
  {
   "cell_type": "code",
   "execution_count": 283,
   "metadata": {},
   "outputs": [],
   "source": [
    "#PARAMS:\n",
    "cluster_num = 45\n",
    "\n",
    "\n",
    "cluster_users_file_name = '../Data/ProcesData/users_from_' + str(cluster_num) + '_clusters.csv'\n",
    "#Необходимо получить список друзей всех уникальных пользователей из кластера\n",
    "users_from_cluster_df = pd.read_csv(cluster_users_file_name, encoding='windows-1251')"
   ]
  },
  {
   "cell_type": "code",
   "execution_count": 284,
   "metadata": {
    "collapsed": true
   },
   "outputs": [],
   "source": [
    "#find users info\n",
    "users_list = find_users(users_from_cluster_df.uid.tolist())\n",
    "\n",
    "users_info_list = pd.DataFrame(users_list)\n",
    "users_info_list = users_info_list.rename(index=str, columns={\"id\": \"uid\"})\n",
    "\n",
    "users_from_cluster_df = users_from_cluster_df[['uid']].merge(users_info_list, on='uid', how='inner')"
   ]
  },
  {
   "cell_type": "code",
   "execution_count": 285,
   "metadata": {},
   "outputs": [],
   "source": [
    "#delete deactivated users\n",
    "users_from_cluster_df['uid'] = users_from_cluster_df.uid.apply(lambda u: int(u))\n",
    "users_from_cluster_df = users_from_cluster_df[users_from_cluster_df.deactivated.isnull()]"
   ]
  },
  {
   "cell_type": "code",
   "execution_count": 288,
   "metadata": {},
   "outputs": [
    {
     "data": {
      "text/plain": [
       "13075"
      ]
     },
     "execution_count": 288,
     "metadata": {},
     "output_type": "execute_result"
    }
   ],
   "source": [
    "len(users_from_cluster_df)"
   ]
  },
  {
   "cell_type": "code",
   "execution_count": 287,
   "metadata": {},
   "outputs": [],
   "source": [
    "#postprocessing users_df\n",
    "#age\n",
    "def get_age(bdate):\n",
    "    try:\n",
    "        year = datetime.strptime(bdate, '%d.%m.%Y').year\n",
    "        return datetime.today().year - year\n",
    "    except Exception as e:\n",
    "        return np.nan\n",
    "\n",
    "ages = users_from_cluster_df.bdate.apply(get_age)\n",
    "users_from_cluster_df['age'] = ages\n",
    "\n",
    "def get_city_title(city):\n",
    "    try:\n",
    "        city_title = city['title']\n",
    "        return city_title\n",
    "    except Exception as e:\n",
    "        return np.nan\n",
    "\n",
    "users_from_cluster_df['city_title'] = users_from_cluster_df.city.apply(get_city_title)\n",
    "\n",
    "def get_country_title(country):\n",
    "    try:\n",
    "        country_title = country['title']\n",
    "        return country_title\n",
    "    except Exception as e:\n",
    "        return np.nan\n",
    "\n",
    "users_from_cluster_df['country_title'] = users_from_cluster_df.country.apply(get_country_title)\n",
    "\n",
    "def get_occupation_type(occupation):\n",
    "    try:\n",
    "        occupation_type = occupation['type']\n",
    "        return occupation_type\n",
    "    except Exception as e:\n",
    "        return np.nan\n",
    "\n",
    "users_from_cluster_df['occupation_type'] = users_from_cluster_df.occupation.apply(get_occupation_type)\n",
    "\n",
    "def get_occupation_name(occupation):\n",
    "    try:\n",
    "        occupation_name = occupation['name']\n",
    "        return occupation_name\n",
    "    except Exception as e:\n",
    "        return np.nan\n",
    "\n",
    "users_from_cluster_df['occupation_name'] = users_from_cluster_df.occupation.apply(get_occupation_name)"
   ]
  },
  {
   "cell_type": "code",
   "execution_count": 289,
   "metadata": {},
   "outputs": [
    {
     "data": {
      "text/plain": [
       "<matplotlib.axes._subplots.AxesSubplot at 0x15d48a432b0>"
      ]
     },
     "execution_count": 289,
     "metadata": {},
     "output_type": "execute_result"
    },
    {
     "data": {
      "image/png": "[encoded data removed]",
      "text/plain": [
       "<matplotlib.figure.Figure at 0x15d48a10c88>"
      ]
     },
     "metadata": {},
     "output_type": "display_data"
    }
   ],
   "source": [
    "sns.distplot(users_from_cluster_df[~users_from_cluster_df.age.isnull()].age, kde=False)"
   ]
  },
  {
   "cell_type": "code",
   "execution_count": 293,
   "metadata": {},
   "outputs": [
    {
     "data": {
      "text/plain": [
       "СПбГУ                                                 318\n",
       "СПбГЭУ                                                232\n",
       "РГПУ им. А. И. Герцена                                196\n",
       "СПбПУ Петра Великого (Политех)                        185\n",
       "СПбГИК (бывш. СПбГУКИ)                                183\n",
       "СЗИУ РАНХиГС (бывш. СЗАГС)                            101\n",
       "СПбГУПТД (бывш. СПГУТД)                               100\n",
       "МГУ                                                    78\n",
       "ЛГУ им. А. С. Пушкина                                  68\n",
       "СПбГУАП                                                66\n",
       "СПбГТИ (ТУ)                                            60\n",
       "СПбГИКиТ (бывш. СПбГУКиТ)                              60\n",
       "ПГУПС Императора Александра I                          58\n",
       "Университет ИТМО                                       51\n",
       "Горный университет (бывш. СПГГУ)                       49\n",
       "СПбГЭТУ (ЛЭТИ)                                         49\n",
       "ТЭУ СПбПУ (бывш. СПбГТЭУ, СПбТЭИ)                      49\n",
       "СПбГУВК                                                49\n",
       "НГУ им. Лесгафта (бывш. СПбГУФК)                       48\n",
       "ПСПбГМУ им. акад. Павлова                              47\n",
       "СПбГАСУ                                                42\n",
       "СПбГУП                                                 41\n",
       "МБИ                                                    39\n",
       "ФИНЭК                                                  38\n",
       "СПбГУТ им. Бонч-Бруевича                               36\n",
       "СПбГУНиПТ (ИХБТ НИУ ИТМО)                              34\n",
       "СПбУТУиЭ (бывш. САУ, СПбУУЭ, СПбАУЭ)                   33\n",
       "РЭУ им. Г. В. Плеханова                                32\n",
       "ЮУрГУ (НИУ)                                            31\n",
       "БГТУ «Военмех»                                         29\n",
       "                                                     ... \n",
       "СПбГБУЗ \"Александровская больница\"                      1\n",
       "Красота в объективе                                     1\n",
       "Курсы голоса и речи Марии Кондратович                   1\n",
       "ГБУ ЛО МФЦ \"Ломоносовский\"                              1\n",
       "Ideaz                                                   1\n",
       "ОАО \"Управляющая компания\"                              1\n",
       "www.aista-group.ru                                      1\n",
       "Nebar I Самара                                          1\n",
       "By Zinok                                                1\n",
       "Консультант по финансам                                 1\n",
       "Лицей 1581 при МГТУ им. Н.Э.Баумана                     1\n",
       "GO-GO dance Новороссийск - Геленджик - Краснодар        1\n",
       "ПЛАМЕННЫЙ МОТОР                                         1\n",
       "mishka bar                                              1\n",
       "Спортивный Клуб Армии, отделение фигурного катания      1\n",
       "ГГТУ (бывш. МГОГИ)                                      1\n",
       "эстетика отвратительного                                1\n",
       "ООО \"ИНТЕЛЛЕКТИНВЕСТСЕРВИС\"                             1\n",
       "Людмила Соколова|Официальная cтраница                   1\n",
       "Футболки с логотипом | Сувениры | Полиграфия            1\n",
       "человек на планете земля                                1\n",
       "Бар Громов                                              1\n",
       "Hair by Irina Anderson                                  1\n",
       "ТК Россия                                               1\n",
       "🎶🎶 КРАЕВА \"Певица Дарьяна  \"  ДАРЬЯ  !!! 🎶🎶             1\n",
       "ВОЗДУШНЫЕ ШАРЫ                                          1\n",
       "Ресторан Абрикосов                                      1\n",
       "Veeam Software                                          1\n",
       "Корпоративные недорогие тарифы мобильной связи ℹ        1\n",
       "ИГМУ                                                    1\n",
       "Name: occupation_name, Length: 4587, dtype: int64"
      ]
     },
     "execution_count": 293,
     "metadata": {},
     "output_type": "execute_result"
    }
   ],
   "source": [
    "users_from_cluster_df.occupation_name.value_counts()"
   ]
  },
  {
   "cell_type": "code",
   "execution_count": 291,
   "metadata": {
    "collapsed": true
   },
   "outputs": [],
   "source": [
    "#SAVE TO FILE WITH NAME users_from_N_cluster_info.csv\n",
    "users_from_cluster_df.to_csv('../Data/ProcesData/users_from_' + str(cluster_num) + '_cluster_info.csv')"
   ]
  },
  {
   "cell_type": "code",
   "execution_count": 76,
   "metadata": {
    "collapsed": true
   },
   "outputs": [],
   "source": [
    "#get friends\n",
    "users_friends = get_users_friends(users_from_cluster_df.uid.tolist())"
   ]
  },
  {
   "cell_type": "code",
   "execution_count": 87,
   "metadata": {
    "collapsed": true
   },
   "outputs": [],
   "source": [
    "uid_list = list(users_friends.keys())\n",
    "friends_count = list(map(lambda u: u['count'], list(users_friends.values())))\n",
    "friends_list = list(map(lambda u: u['items'], list(users_friends.values())))"
   ]
  },
  {
   "cell_type": "code",
   "execution_count": 88,
   "metadata": {
    "collapsed": true
   },
   "outputs": [],
   "source": [
    "users_friends_df = pd.DataFrame({'uid':uid_list, 'friends_count':friends_count, 'friends_list': friends_list})"
   ]
  },
  {
   "cell_type": "code",
   "execution_count": 278,
   "metadata": {},
   "outputs": [
    {
     "ename": "SyntaxError",
     "evalue": "invalid syntax (<ipython-input-278-56e85c0a5ff3>, line 1)",
     "output_type": "error",
     "traceback": [
      "\u001b[1;36m  File \u001b[1;32m\"<ipython-input-278-56e85c0a5ff3>\"\u001b[1;36m, line \u001b[1;32m1\u001b[0m\n\u001b[1;33m    users_friends_df.to_csv('../Data/ProcesData/users_from_' + cluster_num  _cluster_friends.csv')\u001b[0m\n\u001b[1;37m                                                                                           ^\u001b[0m\n\u001b[1;31mSyntaxError\u001b[0m\u001b[1;31m:\u001b[0m invalid syntax\n"
     ]
    }
   ],
   "source": [
    "users_friends_df.to_csv('../Data/ProcesData/users_from_' + str(cluster_num) +  '_cluster_friends.csv')"
   ]
  },
  {
   "cell_type": "code",
   "execution_count": null,
   "metadata": {
    "collapsed": true
   },
   "outputs": [],
   "source": [
    "\"\""
   ]
  }
 ],
 "metadata": {
  "kernelspec": {
   "display_name": "Python 3",
   "language": "python",
   "name": "python3"
  },
  "language_info": {
   "codemirror_mode": {
    "name": "ipython",
    "version": 3
   },
   "file_extension": ".py",
   "mimetype": "text/x-python",
   "name": "python",
   "nbconvert_exporter": "python",
   "pygments_lexer": "ipython3",
   "version": "3.6.1"
  }
 },
 "nbformat": 4,
 "nbformat_minor": 2
}
