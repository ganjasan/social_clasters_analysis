{
 "cells": [
  {
   "cell_type": "code",
   "execution_count": 63,
   "metadata": {},
   "outputs": [],
   "source": [
    "import pandas as pd\n",
    "import vk\n",
    "import time\n",
    "\n",
    "session = vk.AuthSession('6212339', '89817730298', '162445mda618')\n",
    "vk_api = vk.API(session)\n",
    "\n",
    "pd.set_option('display.max_columns', 500)"
   ]
  },
  {
   "cell_type": "code",
   "execution_count": 21,
   "metadata": {
    "collapsed": true
   },
   "outputs": [],
   "source": [
    "#Необходимо получить список друзей всех уникальных пользователей из кластера\n",
    "\n",
    "users_from_136_clusters_df = pd.read_csv('../Data/ProcesData/users_from_136_clusers.csv', encoding='windows-1251')"
   ]
  },
  {
   "cell_type": "code",
   "execution_count": 75,
   "metadata": {
    "collapsed": true
   },
   "outputs": [],
   "source": [
    "#return 'code' parameter for VK API execute method\n",
    "#Param\n",
    "#users_id_list - bach of 25 users id\n",
    "\n",
    "def get_user_friends_vk_code(users_id_list):\n",
    "    code = 'return {'\n",
    "    \n",
    "    for id in users_id_list:\n",
    "        code = '%s%s' % (code, '\"%s\": API.friends.get({\"user_id\":%s}),' % (id, id))\n",
    "    \n",
    "    code = '%s%s' % (code, '};')\n",
    "        \n",
    "    return code\n",
    "\n",
    "def parts(lst, n=25):\n",
    "    return [lst[i:i + n] for i in iter(range(0, len(lst), n))]\n",
    "\n",
    "def find_users(user_id_bachs):\n",
    "    users = []\n",
    "    for bach in user_id_bachs:\n",
    "        try:\n",
    "            users_list = vk_api.users.get(user_ids=bach, v=5.80)\n",
    "        except Exception as e:\n",
    "            print(e)\n",
    "            \n",
    "            continue\n",
    "            \n",
    "        users.extend(users_list)\n",
    "        \n",
    "    return users \n",
    "\n",
    "def get_users_friends(users_id_list):\n",
    "    users_id_bachs = parts(users_id_list, 25)\n",
    "    \n",
    "    users_friends_dict = {}\n",
    "    for bach in users_id_bachs:\n",
    "        try:\n",
    "            u_f_l = vk_api.execute(code=get_user_friends_vk_code(bach), v=5.80)\n",
    "            \n",
    "            time.sleep(1)\n",
    "            \n",
    "        except Exception as e:\n",
    "            print(e)\n",
    "            continue\n",
    "        \n",
    "        users_friends_dict.update(u_f_l)\n",
    "    \n",
    "    return users_friends_dict"
   ]
  },
  {
   "cell_type": "code",
   "execution_count": 55,
   "metadata": {},
   "outputs": [],
   "source": [
    "#delete deactivated users\n",
    "users_id_bachs = parts(list(map(lambda u: int(u), users_from_136_clusters_df.uid.tolist())),1000)\n",
    "users_list = find_users(users_id_bachs)\n",
    "\n",
    "users_136_info_list = pd.DataFrame(users_list)\n",
    "users_136_info_list = users_136_info_list.rename(index=str, columns={\"id\": \"uid\"})\n",
    "\n",
    "users_from_136_clusters_df = users_from_136_clusters_df[['uid']].merge(users_136_info_list, on='uid', how='inner')\n",
    "\n",
    "users_from_136_clusters_df['uid'] = users_from_136_clusters_df.uid.apply(lambda u: int(u))\n",
    "users_from_136_clusters_df = users_from_136_clusters_df[users_from_136_clusters_df.deactivated.isnull()]"
   ]
  },
  {
   "cell_type": "code",
   "execution_count": 76,
   "metadata": {},
   "outputs": [],
   "source": [
    "#get friends\n",
    "users_friends = get_users_friends(users_from_136_clusters_df.uid.tolist())"
   ]
  },
  {
   "cell_type": "code",
   "execution_count": 87,
   "metadata": {},
   "outputs": [],
   "source": [
    "uid_list = list(users_friends.keys())\n",
    "friends_count = list(map(lambda u: u['count'], list(users_friends.values())))\n",
    "friends_list = list(map(lambda u: u['items'], list(users_friends.values())))"
   ]
  },
  {
   "cell_type": "code",
   "execution_count": 88,
   "metadata": {},
   "outputs": [],
   "source": [
    "users_friends_df = pd.DataFrame({'uid':uid_list, 'friends_count':friends_count, 'friends_list': friends_list})"
   ]
  },
  {
   "cell_type": "code",
   "execution_count": 90,
   "metadata": {},
   "outputs": [],
   "source": [
    "users_friends_df.to_csv('../Data/ProcesData/users_friends.csv')"
   ]
  }
 ],
 "metadata": {
  "kernelspec": {
   "display_name": "Python 3",
   "language": "python",
   "name": "python3"
  },
  "language_info": {
   "codemirror_mode": {
    "name": "ipython",
    "version": 3
   },
   "file_extension": ".py",
   "mimetype": "text/x-python",
   "name": "python",
   "nbconvert_exporter": "python",
   "pygments_lexer": "ipython3",
   "version": "3.6.1"
  }
 },
 "nbformat": 4,
 "nbformat_minor": 2
}
