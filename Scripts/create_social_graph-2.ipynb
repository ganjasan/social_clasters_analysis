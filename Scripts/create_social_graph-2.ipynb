{
 "cells": [
  {
   "cell_type": "code",
   "execution_count": 172,
   "metadata": {
    "collapsed": true
   },
   "outputs": [],
   "source": [
    "import pandas as pd\n",
    "import networkx as nx\n",
    "import ast\n",
    "import matplotlib.pyplot as plt\n",
    "import numpy as np"
   ]
  },
  {
   "cell_type": "code",
   "execution_count": 225,
   "metadata": {
    "collapsed": true
   },
   "outputs": [],
   "source": [
    "friends_file_path_mask = \"../Data/ProcesData/friends/users_from_%s_cluster_friends.csv\"\n",
    "user_info_file_path_mask = \"../Data/ProcesData/users_vk_info/users_from_%s_cluster_info.csv\"\n",
    "social_graph_file_path_mask = \"../Data/ResultData/graphs/raw_graphs/cluster_%s_social_graph.gexf\"\n",
    "pair_social_graph_file_path_mask = \"../Data/ResultData/graphs/pair_graphs/pair_cluster_%s-%s.gexf\""
   ]
  },
  {
   "cell_type": "code",
   "execution_count": 276,
   "metadata": {
    "collapsed": true
   },
   "outputs": [],
   "source": [
    "cluster_list = [0,136,45, 53, 137, 123, 105, 129]"
   ]
  },
  {
   "cell_type": "code",
   "execution_count": 180,
   "metadata": {
    "collapsed": true
   },
   "outputs": [],
   "source": [
    "chekins = pd.read_csv('../Data/RawData/checkins.csv', encoding='windows-1251')\n",
    "\n",
    "chekins_group_by_users = pd.DataFrame(chekins.groupby('uid').id.count())\n",
    "chekins_group_by_users = chekins_group_by_users.rename(index=int, columns={\"id\": \"checkins_count\"})\n",
    "chekins_group_by_users = chekins_group_by_users.reset_index()\n",
    "checkins_group_by_users['uid'] = checkins_group_by_users.uid.apply(lambda uid: int(float(uid)))"
   ]
  },
  {
   "cell_type": "code",
   "execution_count": 181,
   "metadata": {
    "collapsed": true
   },
   "outputs": [],
   "source": [
    "def get_nickname(row):\n",
    "    if isinstance(row['nickname'], float):\n",
    "        return row['first_name'] + \" \" + row['last_name']\n",
    "    else:\n",
    "        return row['nickname']"
   ]
  },
  {
   "cell_type": "code",
   "execution_count": 219,
   "metadata": {
    "collapsed": true
   },
   "outputs": [],
   "source": [
    "for cluster_num in cluster_list:\n",
    "    \n",
    "    user_friends_from_cluster_df = pd.read_csv(friends_file_path_mask % (cluster_num))\n",
    "    user_friends_from_cluster_df = user_friends_from_cluster_df.drop(['Unnamed: 0'], axis=1)\n",
    "    \n",
    "    user_friends_from_cluster_df = user_friends_from_cluster_df.merge(checkins_group_by_users, on='uid', how='left')\n",
    "    \n",
    "    users_from_cluster_vk_info_df = pd.read_csv(user_info_file_path_mask % (cluster_num), encoding='windows-1251')\n",
    "    users_from_cluster_vk_info_df = users_from_cluster_vk_info_df.drop(['Unnamed: 0', 'occupation', 'city', 'country', 'deactivated'], axis=1)\n",
    "    users_from_cluster_vk_info_df['nickname'] = users_from_cluster_vk_info_df.apply(get_nickname, axis=1)\n",
    "    \n",
    "    user_friends_from_cluster_df = user_friends_from_cluster_df.merge(users_from_cluster_vk_info_df, on='uid', how='left')\n",
    "    \n",
    "    user_friends_from_cluster_df['friends_list'] =  user_friends_from_cluster_df.friends_list.apply(lambda f_l: ast.literal_eval(f_l))\n",
    "\n",
    "    user_friends_from_cluster_df = user_friends_from_cluster_df.set_index('uid')\n",
    "    \n",
    "    user_friends_from_cluster_df['bdate'].fillna(value='', inplace=True)\n",
    "    user_friends_from_cluster_df['city_title'].fillna(value='', inplace=True)\n",
    "    user_friends_from_cluster_df['country_title'].fillna(value='', inplace=True)\n",
    "    user_friends_from_cluster_df['occupation_type'].fillna(value='', inplace=True)\n",
    "    user_friends_from_cluster_df['occupation_name'].fillna(value='', inplace=True)\n",
    "    user_friends_from_cluster_df['domain'].fillna(value='', inplace=True)\n",
    "    user_friends_from_cluster_df['age'].fillna(value=0, inplace=True)\n",
    "    user_friends_from_cluster_df['site'].fillna(value='', inplace=True)\n",
    "    \n",
    "    nodes = user_friends_from_cluster_df.drop(['friends_list'], axis=1).to_dict('index')\n",
    "    \n",
    "    G = nx.Graph()\n",
    "\n",
    "    for node in nodes:\n",
    "        G.add_node(node, nodes[node])\n",
    "    \n",
    "    for node in G.nodes():\n",
    "        user_friends_list = user_friends_from_cluster_df.friends_list[node]\n",
    "        \n",
    "        for friend_node in user_friends_list:\n",
    "            if (friend_node in nodes.keys()):\n",
    "                G.add_edge(node, friend_node)\n",
    "                \n",
    "    nx.write_gexf(G, social_graph_file_path_mask % (cluster_num))\n",
    "    "
   ]
  },
  {
   "cell_type": "code",
   "execution_count": 273,
   "metadata": {},
   "outputs": [],
   "source": [
    "#get pair graphs\n",
    "\n",
    "def get_cluster(row):\n",
    "    if row['in_left_cluster'] and row['in_right_cluster']:\n",
    "        return 'both'\n",
    "    elif (row['in_left_cluster']):\n",
    "        return 'left'\n",
    "    else:\n",
    "        return 'right'\n",
    "    \n",
    "def get_friends_list(row):\n",
    "    if row['cluster'] == 'both' or row['cluster'] == 'right':\n",
    "        return ast.literal_eval(row['friends_list_y'])\n",
    "    else:\n",
    "        return ast.literal_eval(row['friends_list_x'])"
   ]
  },
  {
   "cell_type": "code",
   "execution_count": 277,
   "metadata": {},
   "outputs": [],
   "source": [
    "for left_cluster_index in range(len(cluster_list)):\n",
    "    for right_cluster_index in range(left_cluster_index, len(cluster_list)):\n",
    "        if left_cluster_index != right_cluster_index:\n",
    "            left_cluster_num = cluster_list[left_cluster_index]\n",
    "            right_cluster_num = cluster_list[right_cluster_index]\n",
    "            \n",
    "            left_cluster_users_df = pd.read_csv(friends_file_path_mask % (left_cluster_num))\n",
    "            left_cluster_users_df['in_left_cluster'] = True\n",
    "            \n",
    "            right_cluster_users_df = pd.read_csv(friends_file_path_mask % (right_cluster_num))\n",
    "            right_cluster_users_df['in_right_cluster'] = True\n",
    "            \n",
    "            join_df = pd.merge(left=left_cluster_users_df, right=right_cluster_users_df, on='uid', how='outer')\n",
    "            \n",
    "            join_df.in_right_cluster.fillna(value=False, inplace=True)\n",
    "            join_df.in_left_cluster.fillna(value=False, inplace=True)\n",
    "            \n",
    "            join_df['cluster'] = join_df.apply(get_cluster, axis=1)\n",
    "            \n",
    "            join_df['friends_list'] = join_df.apply(get_friends_list, axis=1)\n",
    "            \n",
    "            join_df = join_df[['uid', 'friends_list', 'cluster']]\n",
    "\n",
    "            join_df = join_df.set_index('uid')\n",
    "            \n",
    "            nodes = join_df.drop(['friends_list'], axis=1).to_dict('index')\n",
    "            \n",
    "            G = nx.Graph()\n",
    "\n",
    "            for node in nodes:\n",
    "                G.add_node(node, nodes[node])\n",
    "\n",
    "            for node in G.nodes():\n",
    "                user_friends_list = join_df.friends_list[node]\n",
    "\n",
    "                for friend_node in user_friends_list:\n",
    "                    if (friend_node in nodes.keys()):\n",
    "                        G.add_edge(node, friend_node)\n",
    "                        \n",
    "            \n",
    "            nx.write_gexf(G, pair_social_graph_file_path_mask % (left_cluster_num, right_cluster_num))"
   ]
  },
  {
   "cell_type": "code",
   "execution_count": 275,
   "metadata": {},
   "outputs": [
    {
     "data": {
      "text/html": [
       "<div>\n",
       "<style>\n",
       "    .dataframe thead tr:only-child th {\n",
       "        text-align: right;\n",
       "    }\n",
       "\n",
       "    .dataframe thead th {\n",
       "        text-align: left;\n",
       "    }\n",
       "\n",
       "    .dataframe tbody tr th {\n",
       "        vertical-align: top;\n",
       "    }\n",
       "</style>\n",
       "<table border=\"1\" class=\"dataframe\">\n",
       "  <thead>\n",
       "    <tr style=\"text-align: right;\">\n",
       "      <th></th>\n",
       "      <th>friends_list</th>\n",
       "      <th>cluster</th>\n",
       "    </tr>\n",
       "    <tr>\n",
       "      <th>uid</th>\n",
       "      <th></th>\n",
       "      <th></th>\n",
       "    </tr>\n",
       "  </thead>\n",
       "  <tbody>\n",
       "    <tr>\n",
       "      <th>1319766</th>\n",
       "      <td>[4007, 5923, 9467, 31053, 34836, 40259, 40505,...</td>\n",
       "      <td>left</td>\n",
       "    </tr>\n",
       "    <tr>\n",
       "      <th>3409631</th>\n",
       "      <td>[6596, 76260, 79496, 95000, 96154, 98683, 1008...</td>\n",
       "      <td>left</td>\n",
       "    </tr>\n",
       "    <tr>\n",
       "      <th>87902</th>\n",
       "      <td>[1810, 5822, 8001, 8951, 9172, 18089, 20105, 2...</td>\n",
       "      <td>both</td>\n",
       "    </tr>\n",
       "    <tr>\n",
       "      <th>1032245</th>\n",
       "      <td>[7404, 11635, 11698, 18672, 24329, 49524, 5309...</td>\n",
       "      <td>both</td>\n",
       "    </tr>\n",
       "    <tr>\n",
       "      <th>6255541</th>\n",
       "      <td>[62187, 72821, 79825, 101394, 149182, 166404, ...</td>\n",
       "      <td>left</td>\n",
       "    </tr>\n",
       "  </tbody>\n",
       "</table>\n",
       "</div>"
      ],
      "text/plain": [
       "                                              friends_list cluster\n",
       "uid                                                               \n",
       "1319766  [4007, 5923, 9467, 31053, 34836, 40259, 40505,...    left\n",
       "3409631  [6596, 76260, 79496, 95000, 96154, 98683, 1008...    left\n",
       "87902    [1810, 5822, 8001, 8951, 9172, 18089, 20105, 2...    both\n",
       "1032245  [7404, 11635, 11698, 18672, 24329, 49524, 5309...    both\n",
       "6255541  [62187, 72821, 79825, 101394, 149182, 166404, ...    left"
      ]
     },
     "execution_count": 275,
     "metadata": {},
     "output_type": "execute_result"
    }
   ],
   "source": []
  },
  {
   "cell_type": "code",
   "execution_count": null,
   "metadata": {
    "collapsed": true
   },
   "outputs": [],
   "source": []
  }
 ],
 "metadata": {
  "kernelspec": {
   "display_name": "Python 3",
   "language": "python",
   "name": "python3"
  },
  "language_info": {
   "codemirror_mode": {
    "name": "ipython",
    "version": 3
   },
   "file_extension": ".py",
   "mimetype": "text/x-python",
   "name": "python",
   "nbconvert_exporter": "python",
   "pygments_lexer": "ipython3",
   "version": "3.6.1"
  }
 },
 "nbformat": 4,
 "nbformat_minor": 2
}
