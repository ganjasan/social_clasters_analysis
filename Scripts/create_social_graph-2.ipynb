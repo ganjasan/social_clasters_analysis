{
 "cells": [
  {
   "cell_type": "code",
   "execution_count": 1,
   "metadata": {
    "collapsed": true
   },
   "outputs": [],
   "source": [
    "import pandas as pd\n",
    "import networkx as nx\n",
    "import ast\n",
    "import matplotlib.pyplot as plt\n",
    "import numpy as np"
   ]
  },
  {
   "cell_type": "code",
   "execution_count": 139,
   "metadata": {
    "collapsed": true
   },
   "outputs": [],
   "source": [
    "friends_file_path_mask = \"../Data/ProcesData/friends/users_from_%s_cluster_friends.csv\"\n",
    "user_info_file_path_mask = \"../Data/ProcesData/users_vk_info/users_from_%s_cluster_info.csv\"\n",
    "social_graph_file_path_mask = \"../Data/ResultData/graphs/cluster_%s_social_graph.gexf\""
   ]
  },
  {
   "cell_type": "code",
   "execution_count": 140,
   "metadata": {},
   "outputs": [],
   "source": [
    "cluster_list = [0,136,45, 53, 137, 123, 105, 129]"
   ]
  },
  {
   "cell_type": "code",
   "execution_count": 89,
   "metadata": {},
   "outputs": [],
   "source": [
    "chekins = pd.read_csv('../Data/RawData/checkins.csv', encoding='windows-1251')\n",
    "\n",
    "chekins_group_by_users = pd.DataFrame(chekins.groupby('uid').id.count())\n",
    "chekins_group_by_users = chekins_group_by_users.rename(index=int, columns={\"id\": \"checkins_count\"})\n",
    "chekins_group_by_users = chekins_group_by_users.reset_index()\n",
    "checkins_group_by_users['uid'] = checkins_group_by_users.uid.apply(lambda uid: int(float(uid)))"
   ]
  },
  {
   "cell_type": "code",
   "execution_count": null,
   "metadata": {
    "collapsed": true
   },
   "outputs": [],
   "source": [
    "def get_nickname(row):\n",
    "    if isinstance(row['nickname'], float):\n",
    "        return row['first_name'] + \" \" + row['last_name']\n",
    "    else:\n",
    "        return row['nickname']"
   ]
  },
  {
   "cell_type": "code",
   "execution_count": 167,
   "metadata": {},
   "outputs": [],
   "source": [
    "for cluster_num in cluster_list:\n",
    "    \n",
    "    user_friends_from_cluster_df = pd.read_csv(friends_file_path_mask % (cluster_num))\n",
    "    user_friends_from_cluster_df = user_friends_from_cluster_df.drop(['Unnamed: 0'], axis=1)\n",
    "    \n",
    "    user_friends_from_cluster_df = user_friends_from_cluster_df.merge(checkins_group_by_users, on='uid', how='left')\n",
    "    \n",
    "    users_from_cluster_vk_info_df = pd.read_csv(user_info_file_path_mask % (cluster_num), encoding='windows-1251')\n",
    "    users_from_cluster_vk_info_df = users_from_cluster_vk_info_df.drop(['Unnamed: 0', 'occupation', 'city', 'country'], axis=1)\n",
    "    users_from_cluster_vk_info_df['nickname'] = users_from_cluster_vk_info_df.apply(get_nickname, axis=1)\n",
    "    \n",
    "    user_friends_from_cluster_df = user_friends_from_cluster_df.merge(users_from_cluster_vk_info_df, on='uid', how='left')\n",
    "    \n",
    "    user_friends_from_cluster_df['friends_list'] =  user_friends_from_cluster_df.friends_list.apply(lambda f_l: ast.literal_eval(f_l))\n",
    "\n",
    "    user_friends_from_cluster_df = user_friends_from_cluster_df.set_index('uid')\n",
    "    \n",
    "    nodes = user_friends_from_cluster_df.drop(['friends_list'], axis=1).to_dict('index')\n",
    "    \n",
    "    G = nx.Graph()\n",
    "\n",
    "    for node in nodes:\n",
    "        G.add_node(node, nodes[node])\n",
    "    \n",
    "    for node in G.nodes():\n",
    "        user_friends_list = user_friends_from_cluster_df.friends_list[node]\n",
    "        \n",
    "        for friend_node in user_friends_list:\n",
    "            if (friend_node in nodes.keys()):\n",
    "                G.add_edge(node, friend_node)\n",
    "                \n",
    "    nx.write_gexf(G, social_graph_file_path_mask % (cluster_num))\n",
    "    "
   ]
  }
 ],
 "metadata": {
  "kernelspec": {
   "display_name": "Python 3",
   "language": "python",
   "name": "python3"
  },
  "language_info": {
   "codemirror_mode": {
    "name": "ipython",
    "version": 3
   },
   "file_extension": ".py",
   "mimetype": "text/x-python",
   "name": "python",
   "nbconvert_exporter": "python",
   "pygments_lexer": "ipython3",
   "version": "3.6.1"
  }
 },
 "nbformat": 4,
 "nbformat_minor": 2
}
