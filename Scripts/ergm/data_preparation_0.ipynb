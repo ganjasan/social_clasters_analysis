{
 "cells": [
  {
   "cell_type": "code",
   "execution_count": 1,
   "metadata": {
    "collapsed": true
   },
   "outputs": [],
   "source": [
    "import pandas as pd"
   ]
  },
  {
   "cell_type": "code",
   "execution_count": 2,
   "metadata": {
    "collapsed": true
   },
   "outputs": [],
   "source": [
    "#определить область которую нужно выкачать - список кластеров\n",
    "#получить заведения из этих кластеров \n",
    "#получить список пользователей в этих заведениях\n",
    "#получить информация об этих пользователях\n",
    "#получить список друзей этих пользователей\n",
    "#ограничить список друзей только пользователями заведений - нерепрезентативный граф - мы уже вносим искажения"
   ]
  },
  {
   "cell_type": "code",
   "execution_count": 6,
   "metadata": {},
   "outputs": [],
   "source": [
    "places_df = pd.read_csv('../../Data/RawData/clusters.csv')"
   ]
  },
  {
   "cell_type": "code",
   "execution_count": 10,
   "metadata": {},
   "outputs": [
    {
     "data": {
      "text/plain": [
       "0      625\n",
       "25     603\n",
       "45     212\n",
       "150     82\n",
       "132     81\n",
       "97      79\n",
       "151     72\n",
       "136     57\n",
       "120     40\n",
       "137     28\n",
       "129     22\n",
       "42      21\n",
       "119     16\n",
       "53      16\n",
       "90      15\n",
       "146     15\n",
       "147     15\n",
       "105     15\n",
       "39      14\n",
       "131     14\n",
       "139     12\n",
       "123     12\n",
       "86      11\n",
       "56      10\n",
       "50      10\n",
       "44      10\n",
       "154     10\n",
       "127     10\n",
       "153      9\n",
       "64       8\n",
       "      ... \n",
       "148      2\n",
       "33       2\n",
       "113      2\n",
       "31       2\n",
       "3        2\n",
       "29       2\n",
       "27       2\n",
       "11       2\n",
       "23       2\n",
       "17       2\n",
       "41       2\n",
       "101      2\n",
       "71       2\n",
       "124      2\n",
       "82       2\n",
       "19       2\n",
       "133      2\n",
       "65       2\n",
       "94       2\n",
       "96       2\n",
       "98       2\n",
       "102      2\n",
       "57       2\n",
       "108      2\n",
       "110      2\n",
       "55       2\n",
       "51       2\n",
       "107      2\n",
       "126      2\n",
       "47       1\n",
       "Name: labels, Length: 154, dtype: int64"
      ]
     },
     "execution_count": 10,
     "metadata": {},
     "output_type": "execute_result"
    }
   ],
   "source": []
  },
  {
   "cell_type": "code",
   "execution_count": null,
   "metadata": {
    "collapsed": true
   },
   "outputs": [],
   "source": []
  }
 ],
 "metadata": {
  "kernelspec": {
   "display_name": "Python 3",
   "language": "python",
   "name": "python3"
  },
  "language_info": {
   "codemirror_mode": {
    "name": "ipython",
    "version": 3
   },
   "file_extension": ".py",
   "mimetype": "text/x-python",
   "name": "python",
   "nbconvert_exporter": "python",
   "pygments_lexer": "ipython3",
   "version": "3.6.6"
  }
 },
 "nbformat": 4,
 "nbformat_minor": 2
}
