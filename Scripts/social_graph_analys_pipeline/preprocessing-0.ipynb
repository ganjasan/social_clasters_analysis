{
 "cells": [
  {
   "cell_type": "code",
   "execution_count": 3,
   "metadata": {
    "collapsed": true
   },
   "outputs": [],
   "source": [
    "import pandas as pd\n",
    "import json\n",
    "\n",
    "pd.set_option('display.max_columns', 500)\n",
    "\n",
    "from IPython.display import Image"
   ]
  },
  {
   "cell_type": "markdown",
   "metadata": {},
   "source": [
    "![title](../Img/clusters.png)"
   ]
  },
  {
   "cell_type": "markdown",
   "metadata": {},
   "source": [
    "Для исследования социального графа мы возьмём кластеры отображенные на рисунке выше\n",
    "\n",
    "Алгоритм исследования:\n",
    "\n",
    "1) Получаем заведения из исследуемых кластеров - V\n",
    "2) Получаем пользователей оставивших чекины в V - U \n",
    "(preprocessing-0.ipynb)\n",
    "3) Собираем информацию о данных пользователях - U (id, ФИО, пол, возраст)\n",
    "3.1) Удалим из U пользователей которые выпилились из VK\n",
    "(get_users_friends-1.ipynb)\n",
    "4) Строим социальный граф\n",
    "(create_social_graph-2.ipynb)\n",
    "5) Считаем базовые характеристики и корреляции\n",
    "(main_stats-3.ipynb)\n",
    "6) Считаем метрики\n",
    "\n",
    "7) Строим графики\n",
    "\n",
    "...\n",
    "\n",
    "n) Profit\n"
   ]
  },
  {
   "cell_type": "code",
   "execution_count": 15,
   "metadata": {
    "collapsed": true
   },
   "outputs": [],
   "source": [
    "#Выбираем кластеры\n",
    "\n",
    "cluster_list = [0,45,136]"
   ]
  },
  {
   "cell_type": "code",
   "execution_count": 16,
   "metadata": {},
   "outputs": [],
   "source": [
    "clusters_df = pd.read_csv(\"../Data/RawData/clusters.csv\")\n",
    "\n",
    "places_df = clusters_df[clusters_df['labels'].isin(cluster_list)]"
   ]
  },
  {
   "cell_type": "code",
   "execution_count": 17,
   "metadata": {},
   "outputs": [
    {
     "data": {
      "text/plain": [
       "0      625\n",
       "45     212\n",
       "136     57\n",
       "Name: labels, dtype: int64"
      ]
     },
     "execution_count": 17,
     "metadata": {},
     "output_type": "execute_result"
    }
   ],
   "source": [
    "places_df['labels'].value_counts()"
   ]
  },
  {
   "cell_type": "code",
   "execution_count": 19,
   "metadata": {
    "collapsed": true
   },
   "outputs": [],
   "source": [
    "checkins_df = pd.read_csv(\"../Data/RawData/checkins.csv\", encoding='windows-1251')\n",
    "\n",
    "select_checkins_df = checkins_df[checkins_df.place_id.isin(places_df.place_id)]\n",
    "\n",
    "#select_checkins_df.to_csv('../Data/ProcesData/selected_checkins_from_clusters_0_45_136.csv')\n",
    "\n",
    "#all_uniq_users = select_checkins_df.drop_duplicates('uid')\n",
    "\n",
    "#all_uniq_users.to_csv('../Data/ProcesData/all_uniq_users_from_clusters_0_45_136.csv')"
   ]
  },
  {
   "cell_type": "code",
   "execution_count": 10,
   "metadata": {
    "collapsed": true
   },
   "outputs": [],
   "source": [
    "checkins_joined_with_places_df = select_checkins_df.merge(places_df, on='place_id', how='left')\n",
    "\n",
    "for claster_num in claster_list:\n",
    "    user_from_n_cluster_df = checkins_joined_with_places_df[checkins_joined_with_places_df['labels'] == claster_num].drop_duplicates('uid')\n",
    "        \n",
    "    user_from_n_cluster_df.to_csv('../Data/ProcesData/users/users_from_' + str(claster_num) + '_clusters.csv')"
   ]
  },
  {
   "cell_type": "code",
   "execution_count": null,
   "metadata": {
    "collapsed": true
   },
   "outputs": [],
   "source": []
  }
 ],
 "metadata": {
  "kernelspec": {
   "display_name": "Python 3",
   "language": "python",
   "name": "python3"
  },
  "language_info": {
   "codemirror_mode": {
    "name": "ipython",
    "version": 3
   },
   "file_extension": ".py",
   "mimetype": "text/x-python",
   "name": "python",
   "nbconvert_exporter": "python",
   "pygments_lexer": "ipython3",
   "version": "3.6.6"
  }
 },
 "nbformat": 4,
 "nbformat_minor": 2
}
