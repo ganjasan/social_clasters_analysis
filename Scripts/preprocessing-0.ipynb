{
 "cells": [
  {
   "cell_type": "code",
   "execution_count": 1,
   "metadata": {
    "collapsed": true
   },
   "outputs": [],
   "source": [
    "import pandas as pd\n",
    "import json\n",
    "\n",
    "pd.set_option('display.max_columns', 500)\n",
    "\n",
    "from IPython.display import Image\n",
    "Image(\"img/picture.png\")"
   ]
  },
  {
   "cell_type": "markdown",
   "metadata": {},
   "source": [
    "![title](../Img/livehoods_result.png)"
   ]
  },
  {
   "cell_type": "markdown",
   "metadata": {},
   "source": [
    "Для исследования социального графа мы возьмём три кластера в центральной части города. Номера класстеров - 0 (зеленый), 136(желтый), 45 (оранжевый).\n",
    "\n",
    "Алгоритм исследования:\n",
    "\n",
    "1) Получаем заведения из исследуемых кластеров - V\n",
    "2) Получаем пользователей оставивших чекины в V - U \n",
    "(preprocessing-0.ipynb)\n",
    "3) Собираем информацию о данных пользователях - U (id, ФИО, пол, возраст)\n",
    "3.1) Удалим из U пользователей которые выпилились из VK\n",
    "(get_users_friends-1.ipynb)\n",
    "4) Строим социальный граф\n",
    "5) Считаем метрики\n",
    "6) Строим графики\n",
    "\n",
    "...\n",
    "\n",
    "n) Profit\n"
   ]
  },
  {
   "cell_type": "code",
   "execution_count": 13,
   "metadata": {
    "collapsed": true
   },
   "outputs": [],
   "source": [
    "clusters_df = pd.read_csv(\"../Data/RawData/clusters.csv\")\n",
    "\n",
    "places_df = clusters_df[clusters_df['labels'].isin([0, 136, 45])]"
   ]
  },
  {
   "cell_type": "code",
   "execution_count": 18,
   "metadata": {},
   "outputs": [
    {
     "data": {
      "text/plain": [
       "0      625\n",
       "45     212\n",
       "136     57\n",
       "Name: labels, dtype: int64"
      ]
     },
     "execution_count": 18,
     "metadata": {},
     "output_type": "execute_result"
    }
   ],
   "source": [
    "places_df['labels'].value_counts()"
   ]
  },
  {
   "cell_type": "code",
   "execution_count": 28,
   "metadata": {
    "collapsed": true
   },
   "outputs": [],
   "source": [
    "checkins_df = pd.read_csv(\"../Data/RawData/checkins.csv\", encoding='windows-1251')\n",
    "\n",
    "select_checkins_df = checkins_df[checkins_df.place_id.isin(places_df.place_id)]\n",
    "\n",
    "select_checkins_df.to_csv('../Data/ProcesData/selected_checkins_from_clusters_0_45_136.csv')\n",
    "\n",
    "all_uniq_users = select_checkins_df.drop_duplicates('uid')\n",
    "\n",
    "all_uniq_users.to_csv('../Data/ProcesData/all_uniq_users_from_clusters_0_45_136.csv')"
   ]
  },
  {
   "cell_type": "code",
   "execution_count": 32,
   "metadata": {
    "collapsed": true
   },
   "outputs": [],
   "source": [
    "checkins_joined_with_places_df = select_checkins_df.merge(places_df, on='place_id', how='left')\n",
    "\n",
    "users_from_0_clusters_df = checkins_joined_with_places_df[checkins_joined_with_places_df['labels'] == 0].drop_duplicates('uid')\n",
    "users_from_0_clusters_df.to_csv('../Data/ProcesData/users_from_0_clusters.csv')\n",
    "\n",
    "users_from_45_clusters_df = checkins_joined_with_places_df[checkins_joined_with_places_df['labels'] == 45].drop_duplicates('uid')\n",
    "users_from_45_clusters_df.to_csv('../Data/ProcesData/users_from_45_clusters.csv')\n",
    "\n",
    "users_from_136_clusters_df = checkins_joined_with_places_df[checkins_joined_with_places_df['labels'] == 136].drop_duplicates('uid')\n",
    "users_from_136_clusters_df.to_csv('../Data/ProcesData/users_from_136_clusers.csv')"
   ]
  },
  {
   "cell_type": "code",
   "execution_count": 36,
   "metadata": {},
   "outputs": [
    {
     "data": {
      "text/plain": [
       "15448"
      ]
     },
     "execution_count": 36,
     "metadata": {},
     "output_type": "execute_result"
    }
   ],
   "source": [
    "len(users_from_0_clusters_df)"
   ]
  },
  {
   "cell_type": "code",
   "execution_count": 37,
   "metadata": {},
   "outputs": [
    {
     "data": {
      "text/plain": [
       "13675"
      ]
     },
     "execution_count": 37,
     "metadata": {},
     "output_type": "execute_result"
    }
   ],
   "source": [
    "len(users_from_45_clusters_df)"
   ]
  },
  {
   "cell_type": "code",
   "execution_count": 38,
   "metadata": {},
   "outputs": [
    {
     "data": {
      "text/plain": [
       "5921"
      ]
     },
     "execution_count": 38,
     "metadata": {},
     "output_type": "execute_result"
    }
   ],
   "source": [
    "len(users_from_136_clusters_df)"
   ]
  }
 ],
 "metadata": {
  "kernelspec": {
   "display_name": "Python 3",
   "language": "python",
   "name": "python3"
  },
  "language_info": {
   "codemirror_mode": {
    "name": "ipython",
    "version": 3
   },
   "file_extension": ".py",
   "mimetype": "text/x-python",
   "name": "python",
   "nbconvert_exporter": "python",
   "pygments_lexer": "ipython3",
   "version": "3.6.1"
  }
 },
 "nbformat": 4,
 "nbformat_minor": 2
}
